{
 "cells": [
  {
   "cell_type": "markdown",
   "id": "24406688",
   "metadata": {},
   "source": [
    "# Dati ed Esportazione"
   ]
  },
  {
   "cell_type": "code",
   "execution_count": 1,
   "id": "2bbf25d4",
   "metadata": {},
   "outputs": [],
   "source": [
    "import os\n",
    "import sys\n",
    "import numpy as np\n",
    "from scipy.io import mmread\n",
    "import json\n",
    "notebook_dir = os.getcwd()\n",
    "src_path = os.path.join(notebook_dir, \"src\")\n",
    "sys.path.append(src_path)\n",
    "\n",
    "from main import main"
   ]
  },
  {
   "cell_type": "code",
   "execution_count": 2,
   "id": "812e31fd",
   "metadata": {},
   "outputs": [
    {
     "name": "stdout",
     "output_type": "stream",
     "text": [
      "matrix_name:  spa1.mtx\n",
      "tol:  0.0001\n",
      "solver:  jacobi_solver\n",
      "solver:  gauss_seidel_solver\n",
      "solver:  gradient_solver\n",
      "solver:  conjugated_gradient_solver\n",
      "tol:  1e-06\n",
      "solver:  jacobi_solver\n",
      "solver:  gauss_seidel_solver\n",
      "solver:  gradient_solver\n",
      "solver:  conjugated_gradient_solver\n",
      "tol:  1e-08\n"
     ]
    },
    {
     "ename": "KeyboardInterrupt",
     "evalue": "",
     "output_type": "error",
     "traceback": [
      "\u001b[1;31m---------------------------------------------------------------------------\u001b[0m",
      "\u001b[1;31mKeyboardInterrupt\u001b[0m                         Traceback (most recent call last)",
      "Cell \u001b[1;32mIn[2], line 21\u001b[0m\n\u001b[0;32m     19\u001b[0m \u001b[38;5;28;01mfor\u001b[39;00m tol \u001b[38;5;129;01min\u001b[39;00m tols:\n\u001b[0;32m     20\u001b[0m     \u001b[38;5;28mprint\u001b[39m(\u001b[38;5;124m\"\u001b[39m\u001b[38;5;124mtol: \u001b[39m\u001b[38;5;124m\"\u001b[39m, tol)\n\u001b[1;32m---> 21\u001b[0m     errors_sparse[i][j], elapsed_times_sparse[i][j], it_numbers_sparse[i][j] \u001b[38;5;241m=\u001b[39m \u001b[43mmain\u001b[49m\u001b[43m(\u001b[49m\u001b[43mA\u001b[49m\u001b[43m,\u001b[49m\u001b[43m \u001b[49m\u001b[43mb\u001b[49m\u001b[43m,\u001b[49m\u001b[43m \u001b[49m\u001b[43mx_esatta\u001b[49m\u001b[43m,\u001b[49m\u001b[43m \u001b[49m\u001b[43mtol\u001b[49m\u001b[43m)\u001b[49m\n\u001b[0;32m     22\u001b[0m     j \u001b[38;5;241m=\u001b[39m j \u001b[38;5;241m+\u001b[39m \u001b[38;5;241m1\u001b[39m\n\u001b[0;32m     23\u001b[0m i \u001b[38;5;241m=\u001b[39m i \u001b[38;5;241m+\u001b[39m \u001b[38;5;241m1\u001b[39m\n",
      "File \u001b[1;32mc:\\Users\\aless\\Desktop\\Uni\\magistrale\\Metodi del calcolo scientifico\\progetto\\src\\main.py:11\u001b[0m, in \u001b[0;36mmain\u001b[1;34m(A, b, x, tol)\u001b[0m\n\u001b[0;32m      8\u001b[0m \u001b[38;5;28;01mdef\u001b[39;00m \u001b[38;5;21mmain\u001b[39m(A, b, x, tol):\n\u001b[0;32m     10\u001b[0m     t \u001b[38;5;241m=\u001b[39m \u001b[38;5;241m20000\u001b[39m\n\u001b[1;32m---> 11\u001b[0m     solvers \u001b[38;5;241m=\u001b[39m [jacobi_solver(A, b, tol, t), \u001b[43mgauss_seidel_solver\u001b[49m\u001b[43m(\u001b[49m\u001b[43mA\u001b[49m\u001b[43m,\u001b[49m\u001b[43m \u001b[49m\u001b[43mb\u001b[49m\u001b[43m,\u001b[49m\u001b[43m \u001b[49m\u001b[43mtol\u001b[49m\u001b[43m,\u001b[49m\u001b[43m \u001b[49m\u001b[43mt\u001b[49m\u001b[43m)\u001b[49m, gradient_solver(A, b, tol, t), conjugated_gradient_solver(A, b, tol, t)]\n\u001b[0;32m     12\u001b[0m     relative_errors \u001b[38;5;241m=\u001b[39m [\u001b[38;5;241m0\u001b[39m \u001b[38;5;28;01mfor\u001b[39;00m i \u001b[38;5;129;01min\u001b[39;00m \u001b[38;5;28mrange\u001b[39m(\u001b[38;5;241m4\u001b[39m)]\n\u001b[0;32m     13\u001b[0m     it_numbers \u001b[38;5;241m=\u001b[39m [\u001b[38;5;241m0\u001b[39m \u001b[38;5;28;01mfor\u001b[39;00m i \u001b[38;5;129;01min\u001b[39;00m \u001b[38;5;28mrange\u001b[39m(\u001b[38;5;241m4\u001b[39m)]\n",
      "File \u001b[1;32mc:\\Users\\aless\\Desktop\\Uni\\magistrale\\Metodi del calcolo scientifico\\progetto\\src\\gauss_seidel_solver.py:9\u001b[0m, in \u001b[0;36mgauss_seidel_solver.__init__\u001b[1;34m(self, A, b, tol, t)\u001b[0m\n\u001b[0;32m      8\u001b[0m \u001b[38;5;28;01mdef\u001b[39;00m \u001b[38;5;21m__init__\u001b[39m(\u001b[38;5;28mself\u001b[39m, A, b, tol, t):\n\u001b[1;32m----> 9\u001b[0m     \u001b[38;5;28;43msuper\u001b[39;49m\u001b[43m(\u001b[49m\u001b[43m)\u001b[49m\u001b[38;5;241;43m.\u001b[39;49m\u001b[38;5;21;43m__init__\u001b[39;49m\u001b[43m(\u001b[49m\u001b[43mA\u001b[49m\u001b[43m,\u001b[49m\u001b[43m \u001b[49m\u001b[43mb\u001b[49m\u001b[43m,\u001b[49m\u001b[43m \u001b[49m\u001b[43mtol\u001b[49m\u001b[43m,\u001b[49m\u001b[43m \u001b[49m\u001b[43mt\u001b[49m\u001b[43m)\u001b[49m\n",
      "File \u001b[1;32mc:\\Users\\aless\\Desktop\\Uni\\magistrale\\Metodi del calcolo scientifico\\progetto\\src\\solver.py:15\u001b[0m, in \u001b[0;36msolver.__init__\u001b[1;34m(self, A, b, tol, t)\u001b[0m\n\u001b[0;32m     12\u001b[0m \u001b[38;5;28mself\u001b[39m\u001b[38;5;241m.\u001b[39mtol \u001b[38;5;241m=\u001b[39m tol\n\u001b[0;32m     13\u001b[0m \u001b[38;5;28mself\u001b[39m\u001b[38;5;241m.\u001b[39mt \u001b[38;5;241m=\u001b[39m t\n\u001b[1;32m---> 15\u001b[0m \u001b[38;5;28;43mself\u001b[39;49m\u001b[38;5;241;43m.\u001b[39;49m\u001b[43mcheck_matrix\u001b[49m\u001b[43m(\u001b[49m\u001b[43m)\u001b[49m\n",
      "File \u001b[1;32mc:\\Users\\aless\\Desktop\\Uni\\magistrale\\Metodi del calcolo scientifico\\progetto\\src\\solver.py:28\u001b[0m, in \u001b[0;36msolver.check_matrix\u001b[1;34m(self)\u001b[0m\n\u001b[0;32m     25\u001b[0m   \u001b[38;5;28;01mif\u001b[39;00m \u001b[38;5;28mlen\u001b[39m(\u001b[38;5;28mself\u001b[39m\u001b[38;5;241m.\u001b[39mb) \u001b[38;5;241m!=\u001b[39m \u001b[38;5;28mself\u001b[39m\u001b[38;5;241m.\u001b[39mA\u001b[38;5;241m.\u001b[39mshape[\u001b[38;5;241m0\u001b[39m]:\n\u001b[0;32m     26\u001b[0m       \u001b[38;5;28mself\u001b[39m\u001b[38;5;241m.\u001b[39misMatrixValid \u001b[38;5;241m=\u001b[39m \u001b[38;5;28;01mFalse\u001b[39;00m\n\u001b[1;32m---> 28\u001b[0m   \u001b[38;5;28;01mif\u001b[39;00m \u001b[38;5;129;01mnot\u001b[39;00m(\u001b[43mis_spd_sparse\u001b[49m\u001b[43m(\u001b[49m\u001b[38;5;28;43mself\u001b[39;49m\u001b[38;5;241;43m.\u001b[39;49m\u001b[43mA\u001b[49m\u001b[43m)\u001b[49m):\n\u001b[0;32m     29\u001b[0m       \u001b[38;5;28mself\u001b[39m\u001b[38;5;241m.\u001b[39misMatrixValid \u001b[38;5;241m=\u001b[39m \u001b[38;5;28;01mFalse\u001b[39;00m\n\u001b[0;32m     30\u001b[0m \u001b[38;5;28;01melse\u001b[39;00m:\n",
      "File \u001b[1;32mc:\\Users\\aless\\Desktop\\Uni\\magistrale\\Metodi del calcolo scientifico\\progetto\\src\\utils.py:17\u001b[0m, in \u001b[0;36mis_spd_sparse\u001b[1;34m(x)\u001b[0m\n\u001b[0;32m     15\u001b[0m \u001b[38;5;28;01mdef\u001b[39;00m \u001b[38;5;21mis_spd_sparse\u001b[39m(x):\n\u001b[0;32m     16\u001b[0m     x \u001b[38;5;241m=\u001b[39m x\u001b[38;5;241m.\u001b[39mtoarray()\n\u001b[1;32m---> 17\u001b[0m     \u001b[38;5;28;01mreturn\u001b[39;00m \u001b[43mis_spd\u001b[49m\u001b[43m(\u001b[49m\u001b[43mx\u001b[49m\u001b[43m)\u001b[49m\n",
      "File \u001b[1;32mc:\\Users\\aless\\Desktop\\Uni\\magistrale\\Metodi del calcolo scientifico\\progetto\\src\\utils.py:13\u001b[0m, in \u001b[0;36mis_spd\u001b[1;34m(x)\u001b[0m\n\u001b[0;32m     11\u001b[0m         \u001b[38;5;28;01mif\u001b[39;00m (x[i][j] \u001b[38;5;241m-\u001b[39m x[j][i] \u001b[38;5;241m>\u001b[39m eps):\n\u001b[0;32m     12\u001b[0m             \u001b[38;5;28;01mreturn\u001b[39;00m \u001b[38;5;28;01mFalse\u001b[39;00m\n\u001b[1;32m---> 13\u001b[0m \u001b[38;5;28;01mreturn\u001b[39;00m np\u001b[38;5;241m.\u001b[39mall(\u001b[43mnp\u001b[49m\u001b[38;5;241;43m.\u001b[39;49m\u001b[43mlinalg\u001b[49m\u001b[38;5;241;43m.\u001b[39;49m\u001b[43meigvals\u001b[49m\u001b[43m(\u001b[49m\u001b[43mx\u001b[49m\u001b[43m)\u001b[49m \u001b[38;5;241m>\u001b[39m \u001b[38;5;241m0\u001b[39m)\n",
      "File \u001b[1;32mc:\\Users\\aless\\envs\\stage\\Lib\\site-packages\\numpy\\linalg\\linalg.py:1074\u001b[0m, in \u001b[0;36meigvals\u001b[1;34m(a)\u001b[0m\n\u001b[0;32m   1071\u001b[0m extobj \u001b[38;5;241m=\u001b[39m get_linalg_error_extobj(\n\u001b[0;32m   1072\u001b[0m     _raise_linalgerror_eigenvalues_nonconvergence)\n\u001b[0;32m   1073\u001b[0m signature \u001b[38;5;241m=\u001b[39m \u001b[38;5;124m'\u001b[39m\u001b[38;5;124mD->D\u001b[39m\u001b[38;5;124m'\u001b[39m \u001b[38;5;28;01mif\u001b[39;00m isComplexType(t) \u001b[38;5;28;01melse\u001b[39;00m \u001b[38;5;124m'\u001b[39m\u001b[38;5;124md->D\u001b[39m\u001b[38;5;124m'\u001b[39m\n\u001b[1;32m-> 1074\u001b[0m w \u001b[38;5;241m=\u001b[39m \u001b[43m_umath_linalg\u001b[49m\u001b[38;5;241;43m.\u001b[39;49m\u001b[43meigvals\u001b[49m\u001b[43m(\u001b[49m\u001b[43ma\u001b[49m\u001b[43m,\u001b[49m\u001b[43m \u001b[49m\u001b[43msignature\u001b[49m\u001b[38;5;241;43m=\u001b[39;49m\u001b[43msignature\u001b[49m\u001b[43m,\u001b[49m\u001b[43m \u001b[49m\u001b[43mextobj\u001b[49m\u001b[38;5;241;43m=\u001b[39;49m\u001b[43mextobj\u001b[49m\u001b[43m)\u001b[49m\n\u001b[0;32m   1076\u001b[0m \u001b[38;5;28;01mif\u001b[39;00m \u001b[38;5;129;01mnot\u001b[39;00m isComplexType(t):\n\u001b[0;32m   1077\u001b[0m     \u001b[38;5;28;01mif\u001b[39;00m \u001b[38;5;28mall\u001b[39m(w\u001b[38;5;241m.\u001b[39mimag \u001b[38;5;241m==\u001b[39m \u001b[38;5;241m0\u001b[39m):\n",
      "\u001b[1;31mKeyboardInterrupt\u001b[0m: "
     ]
    }
   ],
   "source": [
    "relative_path = 'data/'\n",
    "matrix_names = ['spa1.mtx', 'spa2.mtx', 'vem1.mtx', 'vem2.mtx']\n",
    "tols = [10**(-4), 10**(-6), 10**(-8), 10**(-10)]\n",
    "#matrice, tol, metodo\n",
    "errors_sparse = np.zeros((4, 4, 4))\n",
    "elapsed_times_sparse = np.zeros((4, 4, 4))\n",
    "it_numbers_sparse = np.zeros((4, 4, 4))\n",
    "\n",
    "i = 0\n",
    "j = 0\n",
    "\n",
    "for matrix_name in matrix_names:\n",
    "    j = 0\n",
    "    A = mmread(relative_path + matrix_name)\n",
    "    n = A.shape[0]\n",
    "    x_esatta = [1 for i in range(n)]\n",
    "    b = A @ x_esatta\n",
    "    print(\"matrix_name: \", matrix_name)\n",
    "    for tol in tols:\n",
    "        print(\"tol: \", tol)\n",
    "        errors_sparse[i][j], elapsed_times_sparse[i][j], it_numbers_sparse[i][j] = main(A, b, x_esatta, tol)\n",
    "        j = j + 1\n",
    "    i = i + 1\n",
    "\n",
    "print(errors_sparse)\n",
    "\n",
    "print(it_numbers_sparse)\n",
    "\n",
    "print(elapsed_times_sparse)"
   ]
  },
  {
   "cell_type": "code",
   "execution_count": null,
   "id": "7629246d",
   "metadata": {},
   "outputs": [],
   "source": [
    "dati_sparsi = {\n",
    "    \"errors_sparse\": errors_sparse.tolist(),\n",
    "    \"it_numbers_sparse\": it_numbers_sparse.tolist(),\n",
    "    \"elapsed_times_sparse\": elapsed_times_sparse.tolist()\n",
    "}\n",
    "\n",
    "with open('dati_sparsi.json', 'w') as f:\n",
    "    json.dump(dati_sparsi, f, indent=2)\n",
    "\n",
    "print(\"Esportazione JSON completata\")\n"
   ]
  },
  {
   "cell_type": "code",
   "execution_count": null,
   "id": "8616ec09",
   "metadata": {},
   "outputs": [],
   "source": [
    "matrix_names = ['spa1.mtx', 'spa2.mtx', 'vem1.mtx', 'vem2.mtx']\n",
    "tols = [10**(-4), 10**(-6), 10**(-8), 10**(-10)]\n",
    "\n",
    "errors = np.zeros((4, 4, 4))\n",
    "elapsed_times = np.zeros((4, 4, 4))\n",
    "it_numbers = np.zeros((4, 4, 4))\n",
    "\n",
    "i = 0\n",
    "j = 0\n",
    "\n",
    "for matrix_name in matrix_names:\n",
    "    j = 0\n",
    "    A = mmread(relative_path + matrix_name)\n",
    "    A = np.array(A.todense())\n",
    "    n = len(A)\n",
    "    x_esatta = [1 for i in range(n)]\n",
    "    b = np.dot(A, x_esatta)\n",
    "    print(\"matrix_name: \", matrix_name)\n",
    "    for tol in tols:\n",
    "        print(\"tol: \", tol)\n",
    "        errors[i][j], elapsed_times[i][j], it_numbers[i][j] = main(A, b, x_esatta, tol)\n",
    "        j = j + 1\n",
    "    i = i + 1\n",
    "\n",
    "\n",
    "print(errors)\n",
    "\n",
    "print(it_numbers)\n",
    "\n",
    "print(elapsed_times)"
   ]
  },
  {
   "cell_type": "code",
   "execution_count": null,
   "id": "ea71d496",
   "metadata": {},
   "outputs": [],
   "source": [
    "dati_densi = {\n",
    "    \"errors_dense\": errors.tolist(),\n",
    "    \"it_numbers_dense\": it_numbers.tolist(),\n",
    "    \"elapsed_times_dense\": elapsed_times.tolist()\n",
    "}\n",
    "\n",
    "with open('dati_densi.json', 'w') as f:\n",
    "    json.dump(dati_densi, f, indent=2)\n",
    "\n",
    "print(\"Esportazione JSON completata\")"
   ]
  }
 ],
 "metadata": {
  "kernelspec": {
   "display_name": "stage",
   "language": "python",
   "name": "python3"
  },
  "language_info": {
   "codemirror_mode": {
    "name": "ipython",
    "version": 3
   },
   "file_extension": ".py",
   "mimetype": "text/x-python",
   "name": "python",
   "nbconvert_exporter": "python",
   "pygments_lexer": "ipython3",
   "version": "3.12.3"
  }
 },
 "nbformat": 4,
 "nbformat_minor": 5
}
